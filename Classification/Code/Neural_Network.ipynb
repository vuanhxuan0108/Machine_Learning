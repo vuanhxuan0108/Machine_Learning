{
 "cells": [
  {
   "cell_type": "code",
   "execution_count": 5,
   "metadata": {},
   "outputs": [],
   "source": [
    "import pandas as pd\n",
    "from sklearn.model_selection import train_test_split\n",
    "import numpy as np\n",
    "from sklearn.neural_network import MLPClassifier\n",
    "from sklearn.metrics import accuracy_score\n",
    "from sklearn import preprocessing"
   ]
  },
  {
   "cell_type": "code",
   "execution_count": 6,
   "metadata": {},
   "outputs": [],
   "source": [
    "data = pd.read_csv(r\"brain_stroke.csv\")\n",
    "X_data= np.array(data[['gender','age','hypertension','heart_disease','ever_married','work_type','Residence_type','avg_glucose_level','bmi','smoking_status','stroke']].values)\n",
    "le=preprocessing.LabelEncoder()\n",
    "data=data.apply(le.fit_transform)\n",
    "dtTrain, dtTest = train_test_split(data, test_size=0.3, shuffle=False)\n",
    "X_Train = dtTrain.iloc[:,:10]\n",
    "y_Train = dtTrain.iloc[:,10]\n",
    "X_Test = dtTest.iloc[:,:10]\n",
    "y_Test = dtTest.iloc[:,10]"
   ]
  },
  {
   "cell_type": "code",
   "execution_count": 7,
   "metadata": {},
   "outputs": [],
   "source": [
    "clf = MLPClassifier(hidden_layer_sizes=100,max_iter=900)\n",
    "clf.fit(X_Train, y_Train)\n",
    "y_pred = clf.predict(X_Test)"
   ]
  },
  {
   "cell_type": "code",
   "execution_count": 8,
   "metadata": {},
   "outputs": [
    {
     "name": "stdout",
     "output_type": "stream",
     "text": [
      "Accuracy: 0.9719063545150501\n",
      "Precision: 0.9471692872199584\n",
      "Recall: 0.9719063545150501\n",
      "F1 Score: 0.9861342421368381\n"
     ]
    }
   ],
   "source": [
    "from sklearn.metrics import accuracy_score, precision_score, recall_score, f1_score\n",
    "accuracy = accuracy_score(y_Test, y_pred)\n",
    "precision = precision_score(y_Test, y_pred, average='weighted',zero_division=1)\n",
    "recall = recall_score(y_Test, y_pred, average='weighted', zero_division=1)\n",
    "f1 = f1_score(y_Test, y_pred, average='weighted', zero_division=1)\n",
    "\n",
    "# In các độ đo chất lượng\n",
    "print(\"Accuracy:\", accuracy)\n",
    "print(\"Precision:\", precision)\n",
    "print(\"Recall:\", recall)\n",
    "print(\"F1 Score:\", f1)"
   ]
  }
 ],
 "metadata": {
  "kernelspec": {
   "display_name": "base",
   "language": "python",
   "name": "python3"
  },
  "language_info": {
   "codemirror_mode": {
    "name": "ipython",
    "version": 3
   },
   "file_extension": ".py",
   "mimetype": "text/x-python",
   "name": "python",
   "nbconvert_exporter": "python",
   "pygments_lexer": "ipython3",
   "version": "3.11.5"
  }
 },
 "nbformat": 4,
 "nbformat_minor": 2
}
