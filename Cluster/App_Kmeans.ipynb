{
 "cells": [
  {
   "cell_type": "code",
   "execution_count": 1,
   "metadata": {},
   "outputs": [],
   "source": [
    "from tkinter import *\n",
    "import pandas as pd\n",
    "from sklearn.model_selection import train_test_split\n",
    "from KMean_Clustering import KMean_Clustering\n",
    "from sklearn.metrics import davies_bouldin_score, silhouette_score"
   ]
  },
  {
   "cell_type": "markdown",
   "metadata": {},
   "source": [
    "### Đọc file dữ liệu đầu vào"
   ]
  },
  {
   "cell_type": "code",
   "execution_count": 2,
   "metadata": {},
   "outputs": [
    {
     "data": {
      "text/html": [
       "<div>\n",
       "<style scoped>\n",
       "    .dataframe tbody tr th:only-of-type {\n",
       "        vertical-align: middle;\n",
       "    }\n",
       "\n",
       "    .dataframe tbody tr th {\n",
       "        vertical-align: top;\n",
       "    }\n",
       "\n",
       "    .dataframe thead th {\n",
       "        text-align: right;\n",
       "    }\n",
       "</style>\n",
       "<table border=\"1\" class=\"dataframe\">\n",
       "  <thead>\n",
       "    <tr style=\"text-align: right;\">\n",
       "      <th></th>\n",
       "      <th>id</th>\n",
       "      <th>age</th>\n",
       "      <th>sex</th>\n",
       "      <th>cp</th>\n",
       "      <th>trestbps</th>\n",
       "      <th>chol</th>\n",
       "      <th>fbs</th>\n",
       "      <th>restecg</th>\n",
       "      <th>thalach</th>\n",
       "      <th>exang</th>\n",
       "      <th>oldpeak</th>\n",
       "      <th>slope</th>\n",
       "    </tr>\n",
       "  </thead>\n",
       "  <tbody>\n",
       "    <tr>\n",
       "      <th>0</th>\n",
       "      <td>1</td>\n",
       "      <td>63</td>\n",
       "      <td>1</td>\n",
       "      <td>1</td>\n",
       "      <td>145</td>\n",
       "      <td>233</td>\n",
       "      <td>1</td>\n",
       "      <td>2</td>\n",
       "      <td>150</td>\n",
       "      <td>0</td>\n",
       "      <td>2.3</td>\n",
       "      <td>3</td>\n",
       "    </tr>\n",
       "    <tr>\n",
       "      <th>1</th>\n",
       "      <td>2</td>\n",
       "      <td>67</td>\n",
       "      <td>1</td>\n",
       "      <td>4</td>\n",
       "      <td>160</td>\n",
       "      <td>286</td>\n",
       "      <td>0</td>\n",
       "      <td>2</td>\n",
       "      <td>108</td>\n",
       "      <td>1</td>\n",
       "      <td>1.5</td>\n",
       "      <td>2</td>\n",
       "    </tr>\n",
       "    <tr>\n",
       "      <th>2</th>\n",
       "      <td>3</td>\n",
       "      <td>67</td>\n",
       "      <td>1</td>\n",
       "      <td>4</td>\n",
       "      <td>120</td>\n",
       "      <td>229</td>\n",
       "      <td>0</td>\n",
       "      <td>2</td>\n",
       "      <td>129</td>\n",
       "      <td>1</td>\n",
       "      <td>2.6</td>\n",
       "      <td>2</td>\n",
       "    </tr>\n",
       "    <tr>\n",
       "      <th>3</th>\n",
       "      <td>4</td>\n",
       "      <td>37</td>\n",
       "      <td>1</td>\n",
       "      <td>3</td>\n",
       "      <td>130</td>\n",
       "      <td>250</td>\n",
       "      <td>0</td>\n",
       "      <td>0</td>\n",
       "      <td>187</td>\n",
       "      <td>0</td>\n",
       "      <td>3.5</td>\n",
       "      <td>3</td>\n",
       "    </tr>\n",
       "    <tr>\n",
       "      <th>4</th>\n",
       "      <td>5</td>\n",
       "      <td>41</td>\n",
       "      <td>0</td>\n",
       "      <td>2</td>\n",
       "      <td>130</td>\n",
       "      <td>204</td>\n",
       "      <td>0</td>\n",
       "      <td>2</td>\n",
       "      <td>172</td>\n",
       "      <td>0</td>\n",
       "      <td>1.4</td>\n",
       "      <td>1</td>\n",
       "    </tr>\n",
       "  </tbody>\n",
       "</table>\n",
       "</div>"
      ],
      "text/plain": [
       "   id  age  sex  cp  trestbps  chol  fbs  restecg  thalach  exang  oldpeak  \\\n",
       "0   1   63    1   1       145   233    1        2      150      0      2.3   \n",
       "1   2   67    1   4       160   286    0        2      108      1      1.5   \n",
       "2   3   67    1   4       120   229    0        2      129      1      2.6   \n",
       "3   4   37    1   3       130   250    0        0      187      0      3.5   \n",
       "4   5   41    0   2       130   204    0        2      172      0      1.4   \n",
       "\n",
       "   slope  \n",
       "0      3  \n",
       "1      2  \n",
       "2      2  \n",
       "3      3  \n",
       "4      1  "
      ]
     },
     "execution_count": 2,
     "metadata": {},
     "output_type": "execute_result"
    }
   ],
   "source": [
    "data = pd.read_csv(r\"heart_disease_patients.csv\")\n",
    "data.head()"
   ]
  },
  {
   "cell_type": "markdown",
   "metadata": {},
   "source": [
    "### Chia dữ liệu thành 2 phần train:test tỉ lệ 90:10\n",
    "##### Lấy từ cột 1 trở đi (không lấy cột id)"
   ]
  },
  {
   "cell_type": "code",
   "execution_count": 3,
   "metadata": {},
   "outputs": [],
   "source": [
    "dtTrain, dtTest = train_test_split(data, test_size=0.1, shuffle=False)\n",
    "X_Train = dtTrain.iloc[:,1:]\n",
    "X_Test = dtTest.iloc[:,1:]\n",
    "X_Train = X_Train.values\n",
    "X_Test = X_Test.values"
   ]
  },
  {
   "cell_type": "markdown",
   "metadata": {},
   "source": [
    "### Tìm ra model tốt nhất\n",
    "##### Model tốt nhất là model có độ đo silhoutte gần 1"
   ]
  },
  {
   "cell_type": "code",
   "execution_count": 4,
   "metadata": {},
   "outputs": [],
   "source": [
    "maxx = 0\n",
    "bestmodel = 0\n",
    "for i in range(2,10):\n",
    "    model = KMean_Clustering(K=i)\n",
    "    (centroids, labels, it) = model.fit(X_Train)\n",
    "    y_pred = model.predict(X_Test)\n",
    "    if (silhouette_score(X_Test, y_pred[-1])>maxx): \n",
    "        maxx = silhouette_score(X_Test, y_pred[-1])\n",
    "        k = i\n",
    "        bestmodel = model"
   ]
  },
  {
   "cell_type": "markdown",
   "metadata": {},
   "source": [
    "### Train mô hình tốt nhất vừa tìm được"
   ]
  },
  {
   "cell_type": "code",
   "execution_count": 5,
   "metadata": {},
   "outputs": [
    {
     "name": "stdout",
     "output_type": "stream",
     "text": [
      "So cum tot nhat la:  2\n",
      "Cac tam cum la:\n",
      " [[5.68787879e+01 5.55555556e-01 3.23232323e+00 1.36000000e+02\n",
      "  3.00787879e+02 1.51515152e-01 1.20202020e+00 1.45686869e+02\n",
      "  3.83838384e-01 1.04545455e+00 1.58585859e+00]\n",
      " [5.28843931e+01 7.51445087e-01 3.13872832e+00 1.28745665e+02\n",
      "  2.20000000e+02 1.56069364e-01 9.30635838e-01 1.52184971e+02\n",
      "  3.00578035e-01 1.02716763e+00 1.57803468e+00]]\n"
     ]
    }
   ],
   "source": [
    "(centroids, labels, it) = bestmodel.fit(X_Train)\n",
    "print(\"So cum tot nhat la: \", k)\n",
    "print(\"Cac tam cum la:\\n\", centroids[-1])"
   ]
  },
  {
   "cell_type": "markdown",
   "metadata": {},
   "source": [
    "### Dự đoán nhãn cho tập X_Test (10% dữ liệu còn lại)"
   ]
  },
  {
   "cell_type": "code",
   "execution_count": 6,
   "metadata": {},
   "outputs": [
    {
     "name": "stdout",
     "output_type": "stream",
     "text": [
      "[0 1 1 1 0 1 1 1 0 1 1 1 1 0 1 1 1 1 1 0 1 1 1 1 1 1 0 1 1 1 1]\n"
     ]
    }
   ],
   "source": [
    "labels_pred = bestmodel.predict(X_Test)\n",
    "print(labels_pred[-1])"
   ]
  },
  {
   "cell_type": "markdown",
   "metadata": {},
   "source": [
    "### Các độ đo đánh giá mô hình"
   ]
  },
  {
   "cell_type": "code",
   "execution_count": 7,
   "metadata": {},
   "outputs": [
    {
     "name": "stdout",
     "output_type": "stream",
     "text": [
      "davies_boudlin:  0.672308432300016\n",
      "silhouette:  0.5001822850641424\n"
     ]
    }
   ],
   "source": [
    "print(\"davies_boudlin: \", davies_bouldin_score(X_Test, labels_pred[-1]))\n",
    "print(\"silhouette: \", silhouette_score(X_Test, labels_pred[-1]))"
   ]
  },
  {
   "cell_type": "markdown",
   "metadata": {},
   "source": [
    "## Tạo ứng dụng dự đoán nhãn của 1 mẫu bất kỳ"
   ]
  },
  {
   "cell_type": "code",
   "execution_count": 8,
   "metadata": {},
   "outputs": [
    {
     "data": {
      "text/plain": [
       "''"
      ]
     },
     "execution_count": 8,
     "metadata": {},
     "output_type": "execute_result"
    }
   ],
   "source": [
    "# Tạo cửa sổ chính của ứng dụng GUI\n",
    "form = Tk()\n",
    "form.title(\"Phân cụm người mắc bệnh tim\")\n",
    "form.geometry(\"350x580\")"
   ]
  },
  {
   "cell_type": "code",
   "execution_count": 9,
   "metadata": {},
   "outputs": [],
   "source": [
    "# Tạo các label và textbox\n",
    "labels = ['age','sex','cp','trestbps','chol', 'fbs', 'restecg', 'thalach', 'exang', 'oldpeak', 'slope']\n",
    "entry_list = []\n",
    "for i, label_text in enumerate(labels):\n",
    "    label = Label(form, text=label_text)\n",
    "    label.grid(row=i, column=0, padx=15, pady=10)\n",
    "    entry = Entry(form)\n",
    "    entry.grid(row=i, column=1, padx=15, pady=10)\n",
    "    entry_list.append(entry)"
   ]
  },
  {
   "cell_type": "code",
   "execution_count": 10,
   "metadata": {},
   "outputs": [],
   "source": [
    "# Tạo label để hiển thị nhãn phân cụm dự đoán và độ đo chất lượng mô hình\n",
    "label_text = StringVar()\n",
    "label_result = Label(form, textvariable=label_text)\n",
    "label_result.grid(row=510, column=0, columnspan=2, padx=10, pady=10)\n",
    "\n",
    "evaluation_text = StringVar()\n",
    "evaluation_result = Label(form, textvariable=evaluation_text)\n",
    "evaluation_result.grid(row=520, column=0, columnspan=2, padx=10, pady=10)"
   ]
  },
  {
   "cell_type": "code",
   "execution_count": 11,
   "metadata": {},
   "outputs": [],
   "source": [
    "# Hàm để dự đoán nhãn phân cụm của mẫu mới và tính độ đo chất lượng mô hình\n",
    "def predict_cluster():\n",
    "    # Lấy dữ liệu từ ô textbox\n",
    "    features = []\n",
    "    for entry in entry_list:\n",
    "        features.append(float(entry.get()))\n",
    "    \n",
    "    # Thực hiện dự đoán nhãn phân cụm\n",
    "    predicted_label = bestmodel.predict([features])\n",
    "    \n",
    "    # Hiển thị nhãn phân cụm\n",
    "    label_text.set(\"Nhãn phân cụm: \" + str(predicted_label[0]))\n",
    "    \n",
    "    # Tính độ đo chất lượng mô hình\n",
    "    labels_pred = bestmodel.predict(X_Test)\n",
    "    silhouette = silhouette_score(X_Test, labels_pred[-1])\n",
    "    davies_bouldin = davies_bouldin_score(X_Test, labels_pred[-1])\n",
    "    \n",
    "    # Hiển thị độ đo chất lượng mô hình\n",
    "    evaluation_text.set(\"Silhouette: {:.2f}, Davies-Bouldin: {:.2f}\".format(silhouette, davies_bouldin))"
   ]
  },
  {
   "cell_type": "code",
   "execution_count": 12,
   "metadata": {},
   "outputs": [],
   "source": [
    "# Tạo nút dự đoán và đặt sự kiện khi click vào nút\n",
    "predict_button = Button(form, text=\"Dự đoán\", command=predict_cluster)\n",
    "predict_button.grid(row=500, column=0, columnspan=2, padx=10, pady=10)"
   ]
  },
  {
   "cell_type": "code",
   "execution_count": 13,
   "metadata": {},
   "outputs": [],
   "source": [
    "# Gọi vòng lặp sự kiện chính để các hành động có thể diễn ra trên màn hình máy tính của người dùng\n",
    "form.mainloop()"
   ]
  }
 ],
 "metadata": {
  "kernelspec": {
   "display_name": "base",
   "language": "python",
   "name": "python3"
  },
  "language_info": {
   "codemirror_mode": {
    "name": "ipython",
    "version": 3
   },
   "file_extension": ".py",
   "mimetype": "text/x-python",
   "name": "python",
   "nbconvert_exporter": "python",
   "pygments_lexer": "ipython3",
   "version": "3.11.5"
  }
 },
 "nbformat": 4,
 "nbformat_minor": 2
}
