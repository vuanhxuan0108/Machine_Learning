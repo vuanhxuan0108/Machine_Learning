{
 "cells": [
  {
   "cell_type": "code",
   "execution_count": 73,
   "metadata": {},
   "outputs": [],
   "source": [
    "from tkinter import *\n",
    "from tkinter import messagebox\n",
    "import numpy as np\n",
    "import pandas as pd\n",
    "from sklearn.model_selection import train_test_split\n",
    "from Model.LinearRegression import LinearRegression\n",
    "from sklearn.linear_model import Ridge\n",
    "from sklearn.neural_network import MLPRegressor\n",
    "from Model.StackingRegressor import StackingRegressor\n",
    "from sklearn.metrics import r2_score,mean_absolute_error, mean_squared_error"
   ]
  },
  {
   "cell_type": "code",
   "execution_count": 74,
   "metadata": {},
   "outputs": [
    {
     "data": {
      "text/html": [
       "<div>\n",
       "<style scoped>\n",
       "    .dataframe tbody tr th:only-of-type {\n",
       "        vertical-align: middle;\n",
       "    }\n",
       "\n",
       "    .dataframe tbody tr th {\n",
       "        vertical-align: top;\n",
       "    }\n",
       "\n",
       "    .dataframe thead th {\n",
       "        text-align: right;\n",
       "    }\n",
       "</style>\n",
       "<table border=\"1\" class=\"dataframe\">\n",
       "  <thead>\n",
       "    <tr style=\"text-align: right;\">\n",
       "      <th></th>\n",
       "      <th>Product_id</th>\n",
       "      <th>Price</th>\n",
       "      <th>Sale</th>\n",
       "      <th>weight</th>\n",
       "      <th>resoloution</th>\n",
       "      <th>ppi</th>\n",
       "      <th>cpu core</th>\n",
       "      <th>cpu freq</th>\n",
       "      <th>internal mem</th>\n",
       "      <th>ram</th>\n",
       "      <th>RearCam</th>\n",
       "      <th>Front_Cam</th>\n",
       "      <th>battery</th>\n",
       "      <th>thickness</th>\n",
       "    </tr>\n",
       "  </thead>\n",
       "  <tbody>\n",
       "    <tr>\n",
       "      <th>0</th>\n",
       "      <td>203</td>\n",
       "      <td>2357</td>\n",
       "      <td>10</td>\n",
       "      <td>135.0</td>\n",
       "      <td>5.2</td>\n",
       "      <td>424</td>\n",
       "      <td>8</td>\n",
       "      <td>1.35</td>\n",
       "      <td>16.0</td>\n",
       "      <td>3.000</td>\n",
       "      <td>13.00</td>\n",
       "      <td>8.0</td>\n",
       "      <td>2610</td>\n",
       "      <td>7.4</td>\n",
       "    </tr>\n",
       "    <tr>\n",
       "      <th>1</th>\n",
       "      <td>880</td>\n",
       "      <td>1749</td>\n",
       "      <td>10</td>\n",
       "      <td>125.0</td>\n",
       "      <td>4.0</td>\n",
       "      <td>233</td>\n",
       "      <td>2</td>\n",
       "      <td>1.30</td>\n",
       "      <td>4.0</td>\n",
       "      <td>1.000</td>\n",
       "      <td>3.15</td>\n",
       "      <td>0.0</td>\n",
       "      <td>1700</td>\n",
       "      <td>9.9</td>\n",
       "    </tr>\n",
       "    <tr>\n",
       "      <th>2</th>\n",
       "      <td>40</td>\n",
       "      <td>1916</td>\n",
       "      <td>10</td>\n",
       "      <td>110.0</td>\n",
       "      <td>4.7</td>\n",
       "      <td>312</td>\n",
       "      <td>4</td>\n",
       "      <td>1.20</td>\n",
       "      <td>8.0</td>\n",
       "      <td>1.500</td>\n",
       "      <td>13.00</td>\n",
       "      <td>5.0</td>\n",
       "      <td>2000</td>\n",
       "      <td>7.6</td>\n",
       "    </tr>\n",
       "    <tr>\n",
       "      <th>3</th>\n",
       "      <td>99</td>\n",
       "      <td>1315</td>\n",
       "      <td>11</td>\n",
       "      <td>118.5</td>\n",
       "      <td>4.0</td>\n",
       "      <td>233</td>\n",
       "      <td>2</td>\n",
       "      <td>1.30</td>\n",
       "      <td>4.0</td>\n",
       "      <td>0.512</td>\n",
       "      <td>3.15</td>\n",
       "      <td>0.0</td>\n",
       "      <td>1400</td>\n",
       "      <td>11.0</td>\n",
       "    </tr>\n",
       "    <tr>\n",
       "      <th>4</th>\n",
       "      <td>880</td>\n",
       "      <td>1749</td>\n",
       "      <td>11</td>\n",
       "      <td>125.0</td>\n",
       "      <td>4.0</td>\n",
       "      <td>233</td>\n",
       "      <td>2</td>\n",
       "      <td>1.30</td>\n",
       "      <td>4.0</td>\n",
       "      <td>1.000</td>\n",
       "      <td>3.15</td>\n",
       "      <td>0.0</td>\n",
       "      <td>1700</td>\n",
       "      <td>9.9</td>\n",
       "    </tr>\n",
       "  </tbody>\n",
       "</table>\n",
       "</div>"
      ],
      "text/plain": [
       "   Product_id  Price  Sale  weight  resoloution  ppi  cpu core  cpu freq  \\\n",
       "0         203   2357    10   135.0          5.2  424         8      1.35   \n",
       "1         880   1749    10   125.0          4.0  233         2      1.30   \n",
       "2          40   1916    10   110.0          4.7  312         4      1.20   \n",
       "3          99   1315    11   118.5          4.0  233         2      1.30   \n",
       "4         880   1749    11   125.0          4.0  233         2      1.30   \n",
       "\n",
       "   internal mem    ram  RearCam  Front_Cam  battery  thickness  \n",
       "0          16.0  3.000    13.00        8.0     2610        7.4  \n",
       "1           4.0  1.000     3.15        0.0     1700        9.9  \n",
       "2           8.0  1.500    13.00        5.0     2000        7.6  \n",
       "3           4.0  0.512     3.15        0.0     1400       11.0  \n",
       "4           4.0  1.000     3.15        0.0     1700        9.9  "
      ]
     },
     "execution_count": 74,
     "metadata": {},
     "output_type": "execute_result"
    }
   ],
   "source": [
    "data = pd.read_csv(r\"Cellphone.csv\")\n",
    "data.head()"
   ]
  },
  {
   "cell_type": "code",
   "execution_count": 75,
   "metadata": {},
   "outputs": [],
   "source": [
    "dtTrain, dtTest = train_test_split(data, test_size = 0.3, shuffle = False)  \n",
    "X_Train = dtTrain.iloc[:,2:]\n",
    "y_Train = dtTrain.iloc[:,1]\n",
    "X_Test = dtTest.iloc[:,2:]\n",
    "y_Test = dtTest.iloc[:,1]"
   ]
  },
  {
   "cell_type": "code",
   "execution_count": 76,
   "metadata": {},
   "outputs": [],
   "source": [
    "model1 = LinearRegression()\n",
    "model1.fit(X_Train.values, y_Train.values)"
   ]
  },
  {
   "cell_type": "code",
   "execution_count": 77,
   "metadata": {},
   "outputs": [
    {
     "data": {
      "text/html": [
       "<style>#sk-container-id-9 {color: black;}#sk-container-id-9 pre{padding: 0;}#sk-container-id-9 div.sk-toggleable {background-color: white;}#sk-container-id-9 label.sk-toggleable__label {cursor: pointer;display: block;width: 100%;margin-bottom: 0;padding: 0.3em;box-sizing: border-box;text-align: center;}#sk-container-id-9 label.sk-toggleable__label-arrow:before {content: \"▸\";float: left;margin-right: 0.25em;color: #696969;}#sk-container-id-9 label.sk-toggleable__label-arrow:hover:before {color: black;}#sk-container-id-9 div.sk-estimator:hover label.sk-toggleable__label-arrow:before {color: black;}#sk-container-id-9 div.sk-toggleable__content {max-height: 0;max-width: 0;overflow: hidden;text-align: left;background-color: #f0f8ff;}#sk-container-id-9 div.sk-toggleable__content pre {margin: 0.2em;color: black;border-radius: 0.25em;background-color: #f0f8ff;}#sk-container-id-9 input.sk-toggleable__control:checked~div.sk-toggleable__content {max-height: 200px;max-width: 100%;overflow: auto;}#sk-container-id-9 input.sk-toggleable__control:checked~label.sk-toggleable__label-arrow:before {content: \"▾\";}#sk-container-id-9 div.sk-estimator input.sk-toggleable__control:checked~label.sk-toggleable__label {background-color: #d4ebff;}#sk-container-id-9 div.sk-label input.sk-toggleable__control:checked~label.sk-toggleable__label {background-color: #d4ebff;}#sk-container-id-9 input.sk-hidden--visually {border: 0;clip: rect(1px 1px 1px 1px);clip: rect(1px, 1px, 1px, 1px);height: 1px;margin: -1px;overflow: hidden;padding: 0;position: absolute;width: 1px;}#sk-container-id-9 div.sk-estimator {font-family: monospace;background-color: #f0f8ff;border: 1px dotted black;border-radius: 0.25em;box-sizing: border-box;margin-bottom: 0.5em;}#sk-container-id-9 div.sk-estimator:hover {background-color: #d4ebff;}#sk-container-id-9 div.sk-parallel-item::after {content: \"\";width: 100%;border-bottom: 1px solid gray;flex-grow: 1;}#sk-container-id-9 div.sk-label:hover label.sk-toggleable__label {background-color: #d4ebff;}#sk-container-id-9 div.sk-serial::before {content: \"\";position: absolute;border-left: 1px solid gray;box-sizing: border-box;top: 0;bottom: 0;left: 50%;z-index: 0;}#sk-container-id-9 div.sk-serial {display: flex;flex-direction: column;align-items: center;background-color: white;padding-right: 0.2em;padding-left: 0.2em;position: relative;}#sk-container-id-9 div.sk-item {position: relative;z-index: 1;}#sk-container-id-9 div.sk-parallel {display: flex;align-items: stretch;justify-content: center;background-color: white;position: relative;}#sk-container-id-9 div.sk-item::before, #sk-container-id-9 div.sk-parallel-item::before {content: \"\";position: absolute;border-left: 1px solid gray;box-sizing: border-box;top: 0;bottom: 0;left: 50%;z-index: -1;}#sk-container-id-9 div.sk-parallel-item {display: flex;flex-direction: column;z-index: 1;position: relative;background-color: white;}#sk-container-id-9 div.sk-parallel-item:first-child::after {align-self: flex-end;width: 50%;}#sk-container-id-9 div.sk-parallel-item:last-child::after {align-self: flex-start;width: 50%;}#sk-container-id-9 div.sk-parallel-item:only-child::after {width: 0;}#sk-container-id-9 div.sk-dashed-wrapped {border: 1px dashed gray;margin: 0 0.4em 0.5em 0.4em;box-sizing: border-box;padding-bottom: 0.4em;background-color: white;}#sk-container-id-9 div.sk-label label {font-family: monospace;font-weight: bold;display: inline-block;line-height: 1.2em;}#sk-container-id-9 div.sk-label-container {text-align: center;}#sk-container-id-9 div.sk-container {/* jupyter's `normalize.less` sets `[hidden] { display: none; }` but bootstrap.min.css set `[hidden] { display: none !important; }` so we also need the `!important` here to be able to override the default hidden behavior on the sphinx rendered scikit-learn.org. See: https://github.com/scikit-learn/scikit-learn/issues/21755 */display: inline-block !important;position: relative;}#sk-container-id-9 div.sk-text-repr-fallback {display: none;}</style><div id=\"sk-container-id-9\" class=\"sk-top-container\"><div class=\"sk-text-repr-fallback\"><pre>Ridge(alpha=2.0)</pre><b>In a Jupyter environment, please rerun this cell to show the HTML representation or trust the notebook. <br />On GitHub, the HTML representation is unable to render, please try loading this page with nbviewer.org.</b></div><div class=\"sk-container\" hidden><div class=\"sk-item\"><div class=\"sk-estimator sk-toggleable\"><input class=\"sk-toggleable__control sk-hidden--visually\" id=\"sk-estimator-id-9\" type=\"checkbox\" checked><label for=\"sk-estimator-id-9\" class=\"sk-toggleable__label sk-toggleable__label-arrow\">Ridge</label><div class=\"sk-toggleable__content\"><pre>Ridge(alpha=2.0)</pre></div></div></div></div></div>"
      ],
      "text/plain": [
       "Ridge(alpha=2.0)"
      ]
     },
     "execution_count": 77,
     "metadata": {},
     "output_type": "execute_result"
    }
   ],
   "source": [
    "model2 = Ridge(alpha =2.0)\n",
    "model2.fit(X_Train, y_Train)"
   ]
  },
  {
   "cell_type": "code",
   "execution_count": 78,
   "metadata": {},
   "outputs": [
    {
     "data": {
      "text/html": [
       "<style>#sk-container-id-10 {color: black;}#sk-container-id-10 pre{padding: 0;}#sk-container-id-10 div.sk-toggleable {background-color: white;}#sk-container-id-10 label.sk-toggleable__label {cursor: pointer;display: block;width: 100%;margin-bottom: 0;padding: 0.3em;box-sizing: border-box;text-align: center;}#sk-container-id-10 label.sk-toggleable__label-arrow:before {content: \"▸\";float: left;margin-right: 0.25em;color: #696969;}#sk-container-id-10 label.sk-toggleable__label-arrow:hover:before {color: black;}#sk-container-id-10 div.sk-estimator:hover label.sk-toggleable__label-arrow:before {color: black;}#sk-container-id-10 div.sk-toggleable__content {max-height: 0;max-width: 0;overflow: hidden;text-align: left;background-color: #f0f8ff;}#sk-container-id-10 div.sk-toggleable__content pre {margin: 0.2em;color: black;border-radius: 0.25em;background-color: #f0f8ff;}#sk-container-id-10 input.sk-toggleable__control:checked~div.sk-toggleable__content {max-height: 200px;max-width: 100%;overflow: auto;}#sk-container-id-10 input.sk-toggleable__control:checked~label.sk-toggleable__label-arrow:before {content: \"▾\";}#sk-container-id-10 div.sk-estimator input.sk-toggleable__control:checked~label.sk-toggleable__label {background-color: #d4ebff;}#sk-container-id-10 div.sk-label input.sk-toggleable__control:checked~label.sk-toggleable__label {background-color: #d4ebff;}#sk-container-id-10 input.sk-hidden--visually {border: 0;clip: rect(1px 1px 1px 1px);clip: rect(1px, 1px, 1px, 1px);height: 1px;margin: -1px;overflow: hidden;padding: 0;position: absolute;width: 1px;}#sk-container-id-10 div.sk-estimator {font-family: monospace;background-color: #f0f8ff;border: 1px dotted black;border-radius: 0.25em;box-sizing: border-box;margin-bottom: 0.5em;}#sk-container-id-10 div.sk-estimator:hover {background-color: #d4ebff;}#sk-container-id-10 div.sk-parallel-item::after {content: \"\";width: 100%;border-bottom: 1px solid gray;flex-grow: 1;}#sk-container-id-10 div.sk-label:hover label.sk-toggleable__label {background-color: #d4ebff;}#sk-container-id-10 div.sk-serial::before {content: \"\";position: absolute;border-left: 1px solid gray;box-sizing: border-box;top: 0;bottom: 0;left: 50%;z-index: 0;}#sk-container-id-10 div.sk-serial {display: flex;flex-direction: column;align-items: center;background-color: white;padding-right: 0.2em;padding-left: 0.2em;position: relative;}#sk-container-id-10 div.sk-item {position: relative;z-index: 1;}#sk-container-id-10 div.sk-parallel {display: flex;align-items: stretch;justify-content: center;background-color: white;position: relative;}#sk-container-id-10 div.sk-item::before, #sk-container-id-10 div.sk-parallel-item::before {content: \"\";position: absolute;border-left: 1px solid gray;box-sizing: border-box;top: 0;bottom: 0;left: 50%;z-index: -1;}#sk-container-id-10 div.sk-parallel-item {display: flex;flex-direction: column;z-index: 1;position: relative;background-color: white;}#sk-container-id-10 div.sk-parallel-item:first-child::after {align-self: flex-end;width: 50%;}#sk-container-id-10 div.sk-parallel-item:last-child::after {align-self: flex-start;width: 50%;}#sk-container-id-10 div.sk-parallel-item:only-child::after {width: 0;}#sk-container-id-10 div.sk-dashed-wrapped {border: 1px dashed gray;margin: 0 0.4em 0.5em 0.4em;box-sizing: border-box;padding-bottom: 0.4em;background-color: white;}#sk-container-id-10 div.sk-label label {font-family: monospace;font-weight: bold;display: inline-block;line-height: 1.2em;}#sk-container-id-10 div.sk-label-container {text-align: center;}#sk-container-id-10 div.sk-container {/* jupyter's `normalize.less` sets `[hidden] { display: none; }` but bootstrap.min.css set `[hidden] { display: none !important; }` so we also need the `!important` here to be able to override the default hidden behavior on the sphinx rendered scikit-learn.org. See: https://github.com/scikit-learn/scikit-learn/issues/21755 */display: inline-block !important;position: relative;}#sk-container-id-10 div.sk-text-repr-fallback {display: none;}</style><div id=\"sk-container-id-10\" class=\"sk-top-container\"><div class=\"sk-text-repr-fallback\"><pre>MLPRegressor(activation=&#x27;identity&#x27;, alpha=0.001, hidden_layer_sizes=(170, 200),\n",
       "             max_iter=5000)</pre><b>In a Jupyter environment, please rerun this cell to show the HTML representation or trust the notebook. <br />On GitHub, the HTML representation is unable to render, please try loading this page with nbviewer.org.</b></div><div class=\"sk-container\" hidden><div class=\"sk-item\"><div class=\"sk-estimator sk-toggleable\"><input class=\"sk-toggleable__control sk-hidden--visually\" id=\"sk-estimator-id-10\" type=\"checkbox\" checked><label for=\"sk-estimator-id-10\" class=\"sk-toggleable__label sk-toggleable__label-arrow\">MLPRegressor</label><div class=\"sk-toggleable__content\"><pre>MLPRegressor(activation=&#x27;identity&#x27;, alpha=0.001, hidden_layer_sizes=(170, 200),\n",
       "             max_iter=5000)</pre></div></div></div></div></div>"
      ],
      "text/plain": [
       "MLPRegressor(activation='identity', alpha=0.001, hidden_layer_sizes=(170, 200),\n",
       "             max_iter=5000)"
      ]
     },
     "execution_count": 78,
     "metadata": {},
     "output_type": "execute_result"
    }
   ],
   "source": [
    "model3 = MLPRegressor(hidden_layer_sizes=(170, 200,) ,max_iter=5000, activation=\"identity\", alpha=0.001)\n",
    "model3.fit(X_Train, y_Train)"
   ]
  },
  {
   "cell_type": "code",
   "execution_count": 79,
   "metadata": {},
   "outputs": [],
   "source": [
    "arr = [LinearRegression(), Ridge(alpha = 2.0), MLPRegressor(hidden_layer_sizes=(170, 200,) ,max_iter=5000, activation=\"identity\", alpha=0.001)]\n",
    "model = StackingRegressor(estimators=arr)\n",
    "model.fit(X_Train, y_Train)"
   ]
  },
  {
   "cell_type": "code",
   "execution_count": 80,
   "metadata": {},
   "outputs": [
    {
     "data": {
      "text/plain": [
       "''"
      ]
     },
     "execution_count": 80,
     "metadata": {},
     "output_type": "execute_result"
    }
   ],
   "source": [
    "form = Tk()\n",
    "form.title(\"Dự đoán giá điện thoại\")\n",
    "form.geometry(\"1100x1000\")"
   ]
  },
  {
   "cell_type": "code",
   "execution_count": 81,
   "metadata": {},
   "outputs": [],
   "source": [
    "lable_ten1 = Label(form, text = \"Nhập thông tin cho các nhãn:\", font=(\"Arial Bold\", 10), fg=\"red\")\n",
    "lable_ten1.grid(row = 1, column = 1, padx = 40, pady = 10)\n",
    "\n",
    "lable_Sale = Label(form, text = \"Sale:\")\n",
    "lable_Sale.grid(row = 2, column = 1, pady = 0)\n",
    "textbox_Sale = Entry(form)\n",
    "textbox_Sale.grid(row = 2, column = 2, pady = 8)\n",
    "\n",
    "lable_weight = Label(form, text = \"weight:\")\n",
    "lable_weight.grid(row = 3, column = 1, pady = 0)\n",
    "textbox_weight = Entry(form)\n",
    "textbox_weight.grid(row = 3, column = 2, pady = 8)\n",
    "\n",
    "lable_resoloution = Label(form, text = \"resoloution:\")\n",
    "lable_resoloution.grid(row = 4, column = 1, pady = 0)\n",
    "textbox_resoloution = Entry(form)\n",
    "textbox_resoloution.grid(row = 4, column = 2, pady = 8)\n",
    "\n",
    "lable_ppi = Label(form, text = \"ppi:\")\n",
    "lable_ppi.grid(row = 5, column = 1, pady = 0)\n",
    "textbox_ppi = Entry(form)\n",
    "textbox_ppi.grid(row = 5, column = 2, pady = 8)\n",
    "\n",
    "lable_cpu_core = Label(form, text = \"cpu core:\")\n",
    "lable_cpu_core.grid(row = 6, column = 1, pady = 0)\n",
    "textbox_cpu_core = Entry(form)\n",
    "textbox_cpu_core.grid(row = 6, column = 2, pady = 8)\n",
    "\n",
    "lable_cpu_freq = Label(form, text = \"cpu freq:\")\n",
    "lable_cpu_freq.grid(row = 7, column = 1, pady = 0)\n",
    "textbox_cpu_freq = Entry(form)\n",
    "textbox_cpu_freq.grid(row = 7, column = 2, pady = 8)\n",
    "\n",
    "lable_internal_mem = Label(form, text = \"internal mem:\")\n",
    "lable_internal_mem.grid(row = 8, column = 1, pady = 0)\n",
    "textbox_internal_mem = Entry(form)\n",
    "textbox_internal_mem.grid(row = 8, column = 2, pady = 8)\n",
    "\n",
    "lable_ram = Label(form, text = \"ram:\")\n",
    "lable_ram.grid(row = 9, column = 1, pady = 0)\n",
    "textbox_ram = Entry(form)\n",
    "textbox_ram.grid(row = 9, column = 2, pady = 8)\n",
    "\n",
    "lable_RearCam = Label(form, text = \"RearCam:\")\n",
    "lable_RearCam.grid(row = 10, column = 1, pady = 0)\n",
    "textbox_RearCam = Entry(form)\n",
    "textbox_RearCam.grid(row = 10, column = 2, pady = 8)\n",
    "\n",
    "lable_Front_Cam = Label(form, text = \"Front_Cam:\")\n",
    "lable_Front_Cam.grid(row = 11, column = 1, pady = 0)\n",
    "textbox_Front_Cam = Entry(form)\n",
    "textbox_Front_Cam.grid(row = 11, column = 2, pady = 8)\n",
    "\n",
    "lable_battery = Label(form, text = \"battery:\")\n",
    "lable_battery.grid(row = 12, column = 1, pady = 0)\n",
    "textbox_battery = Entry(form)\n",
    "textbox_battery.grid(row = 12, column = 2, pady = 8)\n",
    "\n",
    "lable_thickness = Label(form, text = \"thickness:\")\n",
    "lable_thickness.grid(row = 13, column = 1, pady = 0)\n",
    "textbox_thickness = Entry(form)\n",
    "textbox_thickness.grid(row = 13, column = 2, pady = 8)\n",
    "\n",
    "lable_ten2 = Label(form, text = \"Chất lượng mô hình:\", font=(\"Arial Bold\", 10), fg=\"red\")\n",
    "lable_ten2.grid(row = 16, column = 1, padx = 40, pady = 10)"
   ]
  },
  {
   "cell_type": "code",
   "execution_count": 82,
   "metadata": {},
   "outputs": [],
   "source": [
    "y_mean = np.mean(y_Test)\n",
    "y_pred = model1.predict(X_Test)\n",
    "lbl1 = Label(form)\n",
    "lbl1.grid(column=1, row=18, pady = 10)\n",
    "lbl1.configure(text=\"Tỉ lệ dự đoán đúng của Linear Regression: \"+'\\n'\n",
    "                           +\"NSE: \"+str(1 - (np.sum((y_Test - y_pred) ** 2) / np.sum((y_Test - y_mean) ** 2)))+\"%\"+'\\n'\n",
    "                           +\"R2: \"+str(r2_score(y_Test, y_pred))+\"%\"+'\\n'\n",
    "                           +\"MAE: \"+str(mean_absolute_error(y_Test, y_pred))+\"%\"+'\\n'\n",
    "                           +\"RMSE: \"+str(np.sqrt(mean_squared_error(y_Test, y_pred)))+\"%\"+'\\n')"
   ]
  },
  {
   "cell_type": "code",
   "execution_count": 83,
   "metadata": {},
   "outputs": [],
   "source": [
    "y_mean = np.mean(y_Test)\n",
    "y_pred = model2.predict(X_Test)\n",
    "lbl1 = Label(form)\n",
    "lbl1.grid(column=2, row=18, pady = 10)\n",
    "lbl1.configure(text=\"Tỉ lệ dự đoán đúng của Ridge Regression: \"+'\\n'\n",
    "                           +\"NSE: \"+str(1 - (np.sum((y_Test - y_pred) ** 2) / np.sum((y_Test - y_mean) ** 2)))+\"%\"+'\\n'\n",
    "                           +\"R2: \"+str(r2_score(y_Test, y_pred))+\"%\"+'\\n'\n",
    "                           +\"MAE: \"+str(mean_absolute_error(y_Test, y_pred))+\"%\"+'\\n'\n",
    "                           +\"RMSE: \"+str(np.sqrt(mean_squared_error(y_Test, y_pred)))+\"%\"+'\\n')"
   ]
  },
  {
   "cell_type": "code",
   "execution_count": 84,
   "metadata": {},
   "outputs": [],
   "source": [
    "y_mean = np.mean(y_Test)\n",
    "y_pred = model3.predict(X_Test)\n",
    "lbl1 = Label(form)\n",
    "lbl1.grid(column=3, row=18, pady = 10)\n",
    "lbl1.configure(text=\"Tỉ lệ dự đoán đúng của MLPRegressor: \"+'\\n'\n",
    "                           +\"NSE: \"+str(1 - (np.sum((y_Test - y_pred) ** 2) / np.sum((y_Test - y_mean) ** 2)))+\"%\"+'\\n'\n",
    "                           +\"R2: \"+str(r2_score(y_Test, y_pred))+\"%\"+'\\n'\n",
    "                           +\"MAE: \"+str(mean_absolute_error(y_Test, y_pred))+\"%\"+'\\n'\n",
    "                           +\"RMSE: \"+str(np.sqrt(mean_squared_error(y_Test, y_pred)))+\"%\"+'\\n')"
   ]
  },
  {
   "cell_type": "code",
   "execution_count": 85,
   "metadata": {},
   "outputs": [
    {
     "name": "stderr",
     "output_type": "stream",
     "text": [
      "C:\\Users\\LENOVO\\AppData\\Roaming\\Python\\Python39\\site-packages\\sklearn\\base.py:458: UserWarning: X has feature names, but Ridge was fitted without feature names\n",
      "  warnings.warn(\n",
      "C:\\Users\\LENOVO\\AppData\\Roaming\\Python\\Python39\\site-packages\\sklearn\\base.py:458: UserWarning: X has feature names, but MLPRegressor was fitted without feature names\n",
      "  warnings.warn(\n"
     ]
    }
   ],
   "source": [
    "y_mean = np.mean(y_Test)\n",
    "y_pred = model.predict(X_Test)\n",
    "lbl1 = Label(form)\n",
    "lbl1.grid(column=4, row=18, pady = 10)\n",
    "lbl1.configure(text=\"Tỉ lệ dự đoán đúng của mô hình StackingRegressor: \"+'\\n'\n",
    "                           +\"NSE: \"+str(1 - (np.sum((y_Test - y_pred) ** 2) / np.sum((y_Test - y_mean) ** 2)))+\"%\"+'\\n'\n",
    "                           +\"R2: \"+str(r2_score(y_Test, y_pred))+\"%\"+'\\n'\n",
    "                           +\"MAE: \"+str(mean_absolute_error(y_Test, y_pred))+\"%\"+'\\n'\n",
    "                           +\"RMSE: \"+str(np.sqrt(mean_squared_error(y_Test, y_pred)))+\"%\"+'\\n')"
   ]
  },
  {
   "cell_type": "code",
   "execution_count": 86,
   "metadata": {},
   "outputs": [],
   "source": [
    "def dudoanLinearRegression():\n",
    "    Sale = textbox_Sale.get()\n",
    "    weight = textbox_weight.get()\n",
    "    resoloution = textbox_resoloution.get()\n",
    "    ppi = textbox_ppi.get()\n",
    "    cpu_core = textbox_cpu_core.get()\n",
    "    cpu_freq = textbox_cpu_freq.get()\n",
    "    internal_mem = textbox_internal_mem.get()\n",
    "    ram = textbox_ram.get()\n",
    "    RearCam = textbox_RearCam.get()\n",
    "    Front_Cam = textbox_Front_Cam.get()\n",
    "    battery = textbox_battery.get()\n",
    "    thickness = textbox_thickness.get()\n",
    "    if((Sale == '') or (weight == '') or (resoloution == '') or (ppi == '') or (cpu_core == '')or (cpu_freq == '') or (internal_mem == '') or (ram == '') or (RearCam == '') or (Front_Cam == '') or (battery == '') or (thickness == '')):\n",
    "        messagebox.showinfo(\"Thông báo\", \"Bạn cần nhập đầy đủ thông tin!\")\n",
    "    else:\n",
    "        X_dudoan = np.array([float(Sale), float(weight), float(resoloution), float(ppi), float(cpu_core), float(cpu_freq), float(internal_mem), float(ram), float(RearCam), float(Front_Cam), float(battery), float(thickness)]).reshape(1, -1)\n",
    "        y_kqua = model1.predict(X_dudoan)\n",
    "        lbl2.configure(text= y_kqua[-1])\n",
    "button_LinearRegression = Button(form, text = 'Kết quả dự đoán theo Linear Regression', command = dudoanLinearRegression)\n",
    "button_LinearRegression.grid(row = 3, column = 4, pady = 8)\n",
    "lbl2 = Label(form, text=\"   ...\")\n",
    "lbl2.grid(column=5, row=3, padx = 15)"
   ]
  },
  {
   "cell_type": "code",
   "execution_count": 87,
   "metadata": {},
   "outputs": [],
   "source": [
    "def dudoanRidgeRegression():\n",
    "    Sale = textbox_Sale.get()\n",
    "    weight = textbox_weight.get()\n",
    "    resoloution = textbox_resoloution.get()\n",
    "    ppi = textbox_ppi.get()\n",
    "    cpu_core = textbox_cpu_core.get()\n",
    "    cpu_freq = textbox_cpu_freq.get()\n",
    "    internal_mem = textbox_internal_mem.get()\n",
    "    ram = textbox_ram.get()\n",
    "    RearCam = textbox_RearCam.get()\n",
    "    Front_Cam = textbox_Front_Cam.get()\n",
    "    battery = textbox_battery.get()\n",
    "    thickness = textbox_thickness.get()\n",
    "    if((Sale == '') or (weight == '') or (resoloution == '') or (ppi == '') or (cpu_core == '')or (cpu_freq == '') or (internal_mem == '') or (ram == '') or (RearCam == '') or (Front_Cam == '') or (battery == '') or (thickness == '')):\n",
    "        messagebox.showinfo(\"Thông báo\", \"Bạn cần nhập đầy đủ thông tin!\")\n",
    "    else:\n",
    "        X_dudoan = np.array([float(Sale), float(weight), float(resoloution), float(ppi), float(cpu_core), float(cpu_freq), float(internal_mem), float(ram), float(RearCam), float(Front_Cam), float(battery), float(thickness)]).reshape(1, -1)\n",
    "        y_kqua = model2.predict(X_dudoan)\n",
    "        lbl3.configure(text= y_kqua[-1])\n",
    "button_RidgeRegression = Button(form, text = 'Kết quả dự đoán theo Ridge Regression', command = dudoanRidgeRegression)\n",
    "button_RidgeRegression.grid(row = 4, column = 4, pady = 8)\n",
    "lbl3 = Label(form, text=\"   ...\")\n",
    "lbl3.grid(column=5, row=4, padx = 15)"
   ]
  },
  {
   "cell_type": "code",
   "execution_count": 88,
   "metadata": {},
   "outputs": [],
   "source": [
    "def dudoanMLPRegressor():\n",
    "    Sale = textbox_Sale.get()\n",
    "    weight = textbox_weight.get()\n",
    "    resoloution = textbox_resoloution.get()\n",
    "    ppi = textbox_ppi.get()\n",
    "    cpu_core = textbox_cpu_core.get()\n",
    "    cpu_freq = textbox_cpu_freq.get()\n",
    "    internal_mem = textbox_internal_mem.get()\n",
    "    ram = textbox_ram.get()\n",
    "    RearCam = textbox_RearCam.get()\n",
    "    Front_Cam = textbox_Front_Cam.get()\n",
    "    battery = textbox_battery.get()\n",
    "    thickness = textbox_thickness.get()\n",
    "    if((Sale == '') or (weight == '') or (resoloution == '') or (ppi == '') or (cpu_core == '')or (cpu_freq == '') or (internal_mem == '') or (ram == '') or (RearCam == '') or (Front_Cam == '') or (battery == '') or (thickness == '')):\n",
    "        messagebox.showinfo(\"Thông báo\", \"Bạn cần nhập đầy đủ thông tin!\")\n",
    "    else:\n",
    "        X_dudoan = np.array([float(Sale), float(weight), float(resoloution), float(ppi), float(cpu_core), float(cpu_freq), float(internal_mem), float(ram), float(RearCam), float(Front_Cam), float(battery), float(thickness)]).reshape(1, -1)\n",
    "        y_kqua = model3.predict(X_dudoan)\n",
    "        lbl4.configure(text= y_kqua[-1])\n",
    "button_MLPRegressor = Button(form, text = 'Kết quả dự đoán theo MLPRegressor', command = dudoanMLPRegressor)\n",
    "button_MLPRegressor.grid(row = 5, column = 4, pady = 8)\n",
    "lbl4 = Label(form, text=\"   ...\")\n",
    "lbl4.grid(column=5, row=5, padx = 15)"
   ]
  },
  {
   "cell_type": "code",
   "execution_count": 89,
   "metadata": {},
   "outputs": [],
   "source": [
    "def dudoanStackingRegressor():\n",
    "    Sale = textbox_Sale.get()\n",
    "    weight = textbox_weight.get()\n",
    "    resoloution = textbox_resoloution.get()\n",
    "    ppi = textbox_ppi.get()\n",
    "    cpu_core = textbox_cpu_core.get()\n",
    "    cpu_freq = textbox_cpu_freq.get()\n",
    "    internal_mem = textbox_internal_mem.get()\n",
    "    ram = textbox_ram.get()\n",
    "    RearCam = textbox_RearCam.get()\n",
    "    Front_Cam = textbox_Front_Cam.get()\n",
    "    battery = textbox_battery.get()\n",
    "    thickness = textbox_thickness.get()\n",
    "    if((Sale == '') or (weight == '') or (resoloution == '') or (ppi == '') or (cpu_core == '')or (cpu_freq == '') or (internal_mem == '') or (ram == '') or (RearCam == '') or (Front_Cam == '') or (battery == '') or (thickness == '')):\n",
    "        messagebox.showinfo(\"Thông báo\", \"Bạn cần nhập đầy đủ thông tin!\")\n",
    "    else:\n",
    "        X_dudoan = np.array([float(Sale), float(weight), float(resoloution), float(ppi), float(cpu_core), float(cpu_freq), float(internal_mem), float(ram), float(RearCam), float(Front_Cam), float(battery), float(thickness)]).reshape(1, -1)\n",
    "        y_kqua = model.predict(X_dudoan)\n",
    "        lbl5.configure(text= y_kqua[-1])\n",
    "button_Stacking = Button(form, text = 'Kết quả dự đoán theo StackingRegressor', command = dudoanStackingRegressor)\n",
    "button_Stacking.grid(row = 6, column = 4, pady = 8)\n",
    "lbl5 = Label(form, text=\"   ...\")\n",
    "lbl5.grid(column=5, row=6, padx = 15)"
   ]
  },
  {
   "cell_type": "code",
   "execution_count": 90,
   "metadata": {},
   "outputs": [],
   "source": [
    "form.mainloop()"
   ]
  }
 ],
 "metadata": {
  "kernelspec": {
   "display_name": "base",
   "language": "python",
   "name": "python3"
  },
  "language_info": {
   "codemirror_mode": {
    "name": "ipython",
    "version": 3
   },
   "file_extension": ".py",
   "mimetype": "text/x-python",
   "name": "python",
   "nbconvert_exporter": "python",
   "pygments_lexer": "ipython3",
   "version": "3.9.13"
  }
 },
 "nbformat": 4,
 "nbformat_minor": 2
}
