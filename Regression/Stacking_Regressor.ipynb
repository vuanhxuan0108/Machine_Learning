{
 "cells": [
  {
   "cell_type": "code",
   "execution_count": 71,
   "metadata": {},
   "outputs": [],
   "source": [
    "import numpy as np\n",
    "import pandas as pd\n",
    "from sklearn.model_selection import train_test_split\n",
    "from Model.LinearRegression import LinearRegression\n",
    "from sklearn.linear_model import Ridge\n",
    "from sklearn.neural_network import MLPRegressor\n",
    "from Model.StackingRegressor import StackingRegressor"
   ]
  },
  {
   "cell_type": "code",
   "execution_count": 72,
   "metadata": {},
   "outputs": [
    {
     "data": {
      "text/html": [
       "<div>\n",
       "<style scoped>\n",
       "    .dataframe tbody tr th:only-of-type {\n",
       "        vertical-align: middle;\n",
       "    }\n",
       "\n",
       "    .dataframe tbody tr th {\n",
       "        vertical-align: top;\n",
       "    }\n",
       "\n",
       "    .dataframe thead th {\n",
       "        text-align: right;\n",
       "    }\n",
       "</style>\n",
       "<table border=\"1\" class=\"dataframe\">\n",
       "  <thead>\n",
       "    <tr style=\"text-align: right;\">\n",
       "      <th></th>\n",
       "      <th>Product_id</th>\n",
       "      <th>Price</th>\n",
       "      <th>Sale</th>\n",
       "      <th>weight</th>\n",
       "      <th>resoloution</th>\n",
       "      <th>ppi</th>\n",
       "      <th>cpu core</th>\n",
       "      <th>cpu freq</th>\n",
       "      <th>internal mem</th>\n",
       "      <th>ram</th>\n",
       "      <th>RearCam</th>\n",
       "      <th>Front_Cam</th>\n",
       "      <th>battery</th>\n",
       "      <th>thickness</th>\n",
       "    </tr>\n",
       "  </thead>\n",
       "  <tbody>\n",
       "    <tr>\n",
       "      <th>0</th>\n",
       "      <td>203</td>\n",
       "      <td>2357</td>\n",
       "      <td>10</td>\n",
       "      <td>135.0</td>\n",
       "      <td>5.2</td>\n",
       "      <td>424</td>\n",
       "      <td>8</td>\n",
       "      <td>1.35</td>\n",
       "      <td>16.0</td>\n",
       "      <td>3.000</td>\n",
       "      <td>13.00</td>\n",
       "      <td>8.0</td>\n",
       "      <td>2610</td>\n",
       "      <td>7.4</td>\n",
       "    </tr>\n",
       "    <tr>\n",
       "      <th>1</th>\n",
       "      <td>880</td>\n",
       "      <td>1749</td>\n",
       "      <td>10</td>\n",
       "      <td>125.0</td>\n",
       "      <td>4.0</td>\n",
       "      <td>233</td>\n",
       "      <td>2</td>\n",
       "      <td>1.30</td>\n",
       "      <td>4.0</td>\n",
       "      <td>1.000</td>\n",
       "      <td>3.15</td>\n",
       "      <td>0.0</td>\n",
       "      <td>1700</td>\n",
       "      <td>9.9</td>\n",
       "    </tr>\n",
       "    <tr>\n",
       "      <th>2</th>\n",
       "      <td>40</td>\n",
       "      <td>1916</td>\n",
       "      <td>10</td>\n",
       "      <td>110.0</td>\n",
       "      <td>4.7</td>\n",
       "      <td>312</td>\n",
       "      <td>4</td>\n",
       "      <td>1.20</td>\n",
       "      <td>8.0</td>\n",
       "      <td>1.500</td>\n",
       "      <td>13.00</td>\n",
       "      <td>5.0</td>\n",
       "      <td>2000</td>\n",
       "      <td>7.6</td>\n",
       "    </tr>\n",
       "    <tr>\n",
       "      <th>3</th>\n",
       "      <td>99</td>\n",
       "      <td>1315</td>\n",
       "      <td>11</td>\n",
       "      <td>118.5</td>\n",
       "      <td>4.0</td>\n",
       "      <td>233</td>\n",
       "      <td>2</td>\n",
       "      <td>1.30</td>\n",
       "      <td>4.0</td>\n",
       "      <td>0.512</td>\n",
       "      <td>3.15</td>\n",
       "      <td>0.0</td>\n",
       "      <td>1400</td>\n",
       "      <td>11.0</td>\n",
       "    </tr>\n",
       "    <tr>\n",
       "      <th>4</th>\n",
       "      <td>880</td>\n",
       "      <td>1749</td>\n",
       "      <td>11</td>\n",
       "      <td>125.0</td>\n",
       "      <td>4.0</td>\n",
       "      <td>233</td>\n",
       "      <td>2</td>\n",
       "      <td>1.30</td>\n",
       "      <td>4.0</td>\n",
       "      <td>1.000</td>\n",
       "      <td>3.15</td>\n",
       "      <td>0.0</td>\n",
       "      <td>1700</td>\n",
       "      <td>9.9</td>\n",
       "    </tr>\n",
       "  </tbody>\n",
       "</table>\n",
       "</div>"
      ],
      "text/plain": [
       "   Product_id  Price  Sale  weight  resoloution  ppi  cpu core  cpu freq  \\\n",
       "0         203   2357    10   135.0          5.2  424         8      1.35   \n",
       "1         880   1749    10   125.0          4.0  233         2      1.30   \n",
       "2          40   1916    10   110.0          4.7  312         4      1.20   \n",
       "3          99   1315    11   118.5          4.0  233         2      1.30   \n",
       "4         880   1749    11   125.0          4.0  233         2      1.30   \n",
       "\n",
       "   internal mem    ram  RearCam  Front_Cam  battery  thickness  \n",
       "0          16.0  3.000    13.00        8.0     2610        7.4  \n",
       "1           4.0  1.000     3.15        0.0     1700        9.9  \n",
       "2           8.0  1.500    13.00        5.0     2000        7.6  \n",
       "3           4.0  0.512     3.15        0.0     1400       11.0  \n",
       "4           4.0  1.000     3.15        0.0     1700        9.9  "
      ]
     },
     "execution_count": 72,
     "metadata": {},
     "output_type": "execute_result"
    }
   ],
   "source": [
    "data = pd.read_csv(r\"Cellphone.csv\")\n",
    "data.head()"
   ]
  },
  {
   "cell_type": "code",
   "execution_count": 73,
   "metadata": {},
   "outputs": [],
   "source": [
    "dtTrain, dtTest = train_test_split(data, test_size = 0.3, shuffle = False)  \n",
    "X_Train = dtTrain.iloc[:,2:]\n",
    "y_Train = dtTrain.iloc[:,1]\n",
    "X_Test = dtTest.iloc[:,2:]\n",
    "y_Test = dtTest.iloc[:,1]"
   ]
  },
  {
   "cell_type": "code",
   "execution_count": 74,
   "metadata": {},
   "outputs": [],
   "source": [
    "arr = [LinearRegression(), Ridge(alpha = 2.0), MLPRegressor(hidden_layer_sizes=(170, 200,) ,max_iter=5000, activation=\"identity\", alpha=0.001)]"
   ]
  },
  {
   "cell_type": "code",
   "execution_count": 75,
   "metadata": {},
   "outputs": [
    {
     "name": "stderr",
     "output_type": "stream",
     "text": [
      "C:\\Users\\LENOVO\\AppData\\Roaming\\Python\\Python39\\site-packages\\sklearn\\base.py:458: UserWarning: X has feature names, but Ridge was fitted without feature names\n",
      "  warnings.warn(\n",
      "C:\\Users\\LENOVO\\AppData\\Roaming\\Python\\Python39\\site-packages\\sklearn\\base.py:458: UserWarning: X has feature names, but MLPRegressor was fitted without feature names\n",
      "  warnings.warn(\n"
     ]
    }
   ],
   "source": [
    "model = StackingRegressor(estimators=arr)\n",
    "model.fit(X_Train, y_Train)\n",
    "y_pred = model.predict(X_Test)"
   ]
  },
  {
   "cell_type": "code",
   "execution_count": 76,
   "metadata": {},
   "outputs": [
    {
     "name": "stdout",
     "output_type": "stream",
     "text": [
      "Thuc te           Du doan                Chenh lech\n",
      "2975 \t 3046.2854224134476 \t -71.28542241344758\n",
      "754 \t 863.8605565098127 \t -109.86055650981268\n",
      "2880 \t 3094.797084575684 \t -214.79708457568404\n",
      "2858 \t 2845.186023228575 \t 12.813976771425132\n",
      "3287 \t 2984.637627271129 \t 302.3623727288709\n",
      "3287 \t 2983.3454912180837 \t 303.6545087819163\n",
      "2054 \t 2588.7194747765184 \t -534.7194747765184\n",
      "1734 \t 1532.0503283187052 \t 201.94967168129483\n",
      "1734 \t 1531.825609005132 \t 202.17439099486796\n",
      "2054 \t 2588.0453168357994 \t -534.0453168357994\n",
      "2001 \t 1930.6061898830278 \t 70.39381011697219\n",
      "2001 \t 1930.269110912668 \t 70.73088908733189\n",
      "2880 \t 3088.6734832808147 \t -208.6734832808147\n",
      "705 \t 695.6182022524272 \t 9.381797747572818\n",
      "705 \t 695.3934829388539 \t 9.606517061146064\n",
      "2491 \t 2848.5963551577115 \t -357.5963551577115\n",
      "2491 \t 2848.5401753293177 \t -357.54017532931766\n",
      "2466 \t 2716.064450423493 \t -250.06445042349287\n",
      "1357 \t 1416.056489071789 \t -59.056489071788974\n",
      "1357 \t 1413.7531161076643 \t -56.753116107664255\n",
      "2466 \t 2712.244222092749 \t -246.24422209274917\n",
      "2266 \t 2150.3279545140867 \t 115.67204548591326\n",
      "2266 \t 2149.429077259794 \t 116.57092274020579\n",
      "2445 \t 2323.2566036554313 \t 121.74339634456874\n",
      "2445 \t 2319.7734542950475 \t 125.22654570495251\n",
      "3116 \t 3059.680154442036 \t 56.31984555796407\n",
      "2409 \t 2270.380586743771 \t 138.6194132562291\n",
      "2409 \t 2268.4704725783986 \t 140.52952742160141\n",
      "628 \t 508.724687020984 \t 119.27531297901601\n",
      "628 \t 505.9156956013194 \t 122.08430439868062\n",
      "2508 \t 2585.76973835945 \t -77.76973835945\n",
      "2508 \t 2582.736027626212 \t -74.73602762621204\n",
      "1921 \t 1683.5870142737906 \t 237.4129857262094\n",
      "1921 \t 1679.0364481739336 \t 241.96355182606635\n",
      "3102 \t 3481.9390955022113 \t -379.93909550221133\n",
      "3102 \t 3480.984038419525 \t -378.98403841952495\n",
      "3055 \t 2972.0492511361213 \t 82.95074886387874\n",
      "614 \t 654.7709209251525 \t -40.770920925152495\n",
      "614 \t 654.096762984433 \t -40.096762984432985\n",
      "3055 \t 2968.28520263377 \t 86.71479736622996\n",
      "4361 \t 4130.229438885545 \t 230.77056111445472\n",
      "4361 \t 4127.813706264634 \t 233.18629373536623\n",
      "2536 \t 2428.724734334191 \t 107.275265665809\n",
      "3551 \t 3508.446441042333 \t 42.553558957667065\n",
      "3551 \t 3495.5250805118753 \t 55.47491948812467\n",
      "3211 \t 3430.07745286741 \t -219.0774528674101\n",
      "3260 \t 2761.615693106413 \t 498.3843068935871\n",
      "3211 \t 3377.8302124616457 \t -166.83021246164571\n",
      "2536 \t 2081.083956236496 \t 454.91604376350415\n"
     ]
    }
   ],
   "source": [
    "print(\"Thuc te           Du doan                Chenh lech\")\n",
    "for i in range(0, len(y_Test)):\n",
    "    print(y_Test.values[i], \"\\t\", y_pred[i],\"\\t\", y_Test.values[i]-y_pred[i])"
   ]
  },
  {
   "cell_type": "code",
   "execution_count": 77,
   "metadata": {},
   "outputs": [
    {
     "name": "stdout",
     "output_type": "stream",
     "text": [
      "NSE: 0.9400209053432642\n",
      "R2:  0.9400209053432642\n",
      "MAE: 181.4194424078014\n",
      "RMSE: 228.36000876932087\n"
     ]
    }
   ],
   "source": [
    "from sklearn.metrics import r2_score,mean_absolute_error, mean_squared_error\n",
    "y_mean = np.mean(y_Test)\n",
    "# Tính NSE\n",
    "nse = 1 - (np.sum((y_Test - y_pred) ** 2) / np.sum((y_Test - y_mean) ** 2))\n",
    "\n",
    "#Tinh R2\n",
    "r2 = r2_score(y_Test, y_pred)\n",
    "\n",
    "# Tính MAE\n",
    "mae = mean_absolute_error(y_Test, y_pred)\n",
    "\n",
    "# Tính RMSE\n",
    "rmse = np.sqrt(mean_squared_error(y_Test, y_pred))\n",
    "\n",
    "# In giá trị \n",
    "print(\"NSE:\", nse)\n",
    "print(\"R2: \", r2)\n",
    "print(\"MAE:\", mae)\n",
    "print(\"RMSE:\", rmse)"
   ]
  }
 ],
 "metadata": {
  "kernelspec": {
   "display_name": "base",
   "language": "python",
   "name": "python3"
  },
  "language_info": {
   "codemirror_mode": {
    "name": "ipython",
    "version": 3
   },
   "file_extension": ".py",
   "mimetype": "text/x-python",
   "name": "python",
   "nbconvert_exporter": "python",
   "pygments_lexer": "ipython3",
   "version": "3.9.13"
  }
 },
 "nbformat": 4,
 "nbformat_minor": 2
}
