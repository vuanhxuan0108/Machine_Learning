{
 "cells": [
  {
   "cell_type": "code",
   "execution_count": 1,
   "metadata": {},
   "outputs": [],
   "source": [
    "import numpy as np\n",
    "\n",
    "class KMeans:\n",
    "    def __init__(self, k = 3, max_iter = 100):\n",
    "        self.k = k\n",
    "        self.max_iter = max_iter\n",
    "        self.cluster = [None] * self.k\n",
    "\n",
    "    def euclidean_distance(self, x1, x2):\n",
    "        return np.sqrt(np.sum((x1-x2)**2))\n",
    "\n",
    "    def init_cluster(self, X):\n",
    "        for i in range(self.k):\n",
    "            self.cluster[i] = X[i]\n",
    "        return self.cluster\n",
    "        \n",
    "    def predict(self, X):\n",
    "        n_samples, n_features = X.shape\n",
    "        distance = np.zeros((self.k, n_samples))\n",
    "        check = np.random.rand(n_samples)\n",
    "        self.cluster = self.init_cluster(X)\n",
    "\n",
    "        for iter in range(self.max_iter):\n",
    "            for i in range(self.k):\n",
    "                distance[i] = [self.euclidean_distance(self.cluster[i], X[j]) for j in range(n_samples)]\n",
    "            \n",
    "            cluster_i = np.argmin(distance, axis = 0)\n",
    "            \n",
    "            if np.array_equal(cluster_i, check):\n",
    "                break\n",
    "\n",
    "            for i in range(self.k):\n",
    "                arr = [X[j] for j in range(n_samples) if cluster_i[j] == i]\n",
    "                self.cluster[i] = (1/len(arr))*np.sum(arr, axis=0)\n",
    "                \n",
    "            check = distance\n",
    "        return cluster_i"
   ]
  },
  {
   "cell_type": "code",
   "execution_count": 2,
   "metadata": {},
   "outputs": [],
   "source": [
    "# for index in range(X.shape[0]):\n",
    "#     point = X[index].T\n",
    "#     ax.scatter(*point)\n",
    "# for point in k.cluster:\n",
    "#     ax.scatter(*point, marker=\"x\", color=\"black\", linewidth=2)\n",
    "# plt.show()"
   ]
  }
 ],
 "metadata": {
  "kernelspec": {
   "display_name": "base",
   "language": "python",
   "name": "python3"
  },
  "language_info": {
   "codemirror_mode": {
    "name": "ipython",
    "version": 3
   },
   "file_extension": ".py",
   "mimetype": "text/x-python",
   "name": "python",
   "nbconvert_exporter": "python",
   "pygments_lexer": "ipython3",
   "version": "3.11.5"
  }
 },
 "nbformat": 4,
 "nbformat_minor": 2
}
