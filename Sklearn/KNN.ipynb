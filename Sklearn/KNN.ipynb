{
 "cells": [
  {
   "cell_type": "code",
   "execution_count": 1,
   "metadata": {},
   "outputs": [],
   "source": [
    "import numpy as np\n",
    "# Module Counter để đếm số lầm xuất hiện của các phần tử trong mảng\n",
    "from collections import Counter\n",
    "\n",
    "def euclidean_distance(x1, x2):\n",
    "    return np.sqrt(np.sum((x1-x2)**2))\n",
    "\n",
    "class KNN:\n",
    "    def __init__(self, k=3):\n",
    "        self.k = k\n",
    "\n",
    "    def fit(self, X, y):\n",
    "        self.X_train = X\n",
    "        self.y_train = y\n",
    "    \n",
    "    def predict(self, X):\n",
    "        predicted_label = [self._predict(x) for x in X]\n",
    "        return np.array(predicted_label)\n",
    "\n",
    "    # Hàm dữ đoán cho 1 mẫu mới\n",
    "    def _predict(self, x):\n",
    "        # Tính khoảng cách của điểm dữ liệu mới đến các điểm trong X_train\n",
    "        distances = [euclidean_distance(x, x_train) for x_train in self.X_train]\n",
    "        # Hàm argsort để lấy ra mảng chỉ số của các phần tử trong mảng sau khi đã sắp xếp tẳng dần\n",
    "        # Lấy ra k điểm gần nhất với điểm dữ liệu mới\n",
    "        k_indices = np.argsort(distances)[:self.k]\n",
    "        k_nearest_labels = [self.y_train[i] for i in k_indices]\n",
    "        # Hàm most_common để lấy ra n tuple có giá phổ biến nhất có kiểu [(giá trị, số lần xuất hiện)]\n",
    "        most_common = Counter(k_nearest_labels).most_common(1)[0][0]\n",
    "        return most_common\n"
   ]
  }
 ],
 "metadata": {
  "kernelspec": {
   "display_name": "base",
   "language": "python",
   "name": "python3"
  },
  "language_info": {
   "codemirror_mode": {
    "name": "ipython",
    "version": 3
   },
   "file_extension": ".py",
   "mimetype": "text/x-python",
   "name": "python",
   "nbconvert_exporter": "python",
   "pygments_lexer": "ipython3",
   "version": "3.11.5"
  }
 },
 "nbformat": 4,
 "nbformat_minor": 2
}
