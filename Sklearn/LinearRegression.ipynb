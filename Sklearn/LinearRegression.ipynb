{
 "cells": [
  {
   "cell_type": "code",
   "execution_count": 39,
   "metadata": {},
   "outputs": [],
   "source": [
    "import numpy as np\n",
    "\n",
    "class LinearRegression:\n",
    "    def __init__(self, lr=0.001, max_iter=100):\n",
    "        self.lr = lr\n",
    "        self.max_iter = max_iter\n",
    "        self.weight = None\n",
    "        self.bias = None\n",
    "\n",
    "    def fit(self, X, y):\n",
    "        n_samples, n_features = X.shape\n",
    "        self.weight = np.zeros(n_features)\n",
    "        self.bias = 0\n",
    "        for iter in range(self.max_iter):\n",
    "            pred = self.predict(X)\n",
    "            dw = (1/n_samples) * np.dot(X.T, (pred-y))\n",
    "            db = (1/n_samples) * np.sum(pred-y)\n",
    "\n",
    "            self.weight -= self.lr*dw\n",
    "            self.bias -= self.lr*db\n",
    "            \n",
    "    def predict(self, X):\n",
    "        return np.dot(X, self.weight) + self.bias"
   ]
  }
 ],
 "metadata": {
  "kernelspec": {
   "display_name": "base",
   "language": "python",
   "name": "python3"
  },
  "language_info": {
   "codemirror_mode": {
    "name": "ipython",
    "version": 3
   },
   "file_extension": ".py",
   "mimetype": "text/x-python",
   "name": "python",
   "nbconvert_exporter": "python",
   "pygments_lexer": "ipython3",
   "version": "3.11.5"
  }
 },
 "nbformat": 4,
 "nbformat_minor": 2
}
