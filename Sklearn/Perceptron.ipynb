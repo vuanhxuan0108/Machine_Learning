{
 "cells": [
  {
   "cell_type": "code",
   "execution_count": 1,
   "metadata": {},
   "outputs": [],
   "source": [
    "import numpy as np\n",
    "class Perceptron:\n",
    "    def __init__(self, lr = 0.001, max_iter = 1000):\n",
    "        self.lr = lr\n",
    "        self.max_iter = max_iter\n",
    "        self.weight = None\n",
    "        self.bias = None\n",
    "\n",
    "    def activation_func(self, z):\n",
    "        return 1 if z>0 else 0\n",
    "    \n",
    "    def fit(self, X, y):\n",
    "        n_samples, n_feature = X.shape\n",
    "        self.weight = np.zeros(n_feature)\n",
    "        self.bias = 0\n",
    "\n",
    "        y = [self.activation_func(i) for i in y]\n",
    "\n",
    "        for iter in range(self.max_iter):\n",
    "            for i in range (n_samples):\n",
    "                pred = self.activation_func(self._predict(X[i]))\n",
    "                if pred != y[i]:\n",
    "                    dw = np.dot(X[i].T, (pred - y[i]))\n",
    "                    db = np.sum(pred - y[i])\n",
    "                    self.weight -= dw\n",
    "                    self.bias -= db\n",
    "\n",
    "    def _predict(self, X):\n",
    "        return np.dot(X, self.weight) + self.bias\n",
    "    \n",
    "    def predict(self, X):\n",
    "        return [self.activation_func(x) for x in self._predict(X)]\n",
    "    "
   ]
  }
 ],
 "metadata": {
  "kernelspec": {
   "display_name": "base",
   "language": "python",
   "name": "python3"
  },
  "language_info": {
   "codemirror_mode": {
    "name": "ipython",
    "version": 3
   },
   "file_extension": ".py",
   "mimetype": "text/x-python",
   "name": "python",
   "nbconvert_exporter": "python",
   "pygments_lexer": "ipython3",
   "version": "3.11.5"
  }
 },
 "nbformat": 4,
 "nbformat_minor": 2
}
