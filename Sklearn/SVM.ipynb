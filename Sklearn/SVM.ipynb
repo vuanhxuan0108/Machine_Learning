{
 "cells": [
  {
   "cell_type": "markdown",
   "metadata": {},
   "source": [
    "\n",
    "<img src=\"image/svm.jpeg\" alt=\"Alt text\" width=\"400\" height=\"300\">\n"
   ]
  },
  {
   "cell_type": "markdown",
   "metadata": {},
   "source": [
    "\n",
    "<img src=\"image/svm1.png\" alt=\"Alt text\" width=\"400\" height=\"300\">\n"
   ]
  },
  {
   "cell_type": "code",
   "execution_count": 1,
   "metadata": {},
   "outputs": [],
   "source": [
    "import numpy as np\n",
    "\n",
    "class SVM:\n",
    "    def __init__(self, lr=0.01, max_iter=1000, lamda = 0.01):\n",
    "        self.lr = lr\n",
    "        self.max_iter = max_iter\n",
    "        self.lamda = lamda\n",
    "        self.weight = None\n",
    "        self.bias = None\n",
    "\n",
    "    def activation_func(self, z):\n",
    "        return 1 if z>0 else -1\n",
    "    \n",
    "    def fit(self, X, y):\n",
    "        n_sample, n_feature = X.shape\n",
    "        self.weight = np.zeros(n_feature)\n",
    "        self.bias = 0\n",
    "        for iter in range(self.max_iter):\n",
    "            for i in range(n_sample):\n",
    "                pred = self._predict(X[i])\n",
    "                dw = 2*self.lamda*self.weight\n",
    "                db = 0\n",
    "                if y[i]*pred <1:\n",
    "                    dw -= np.dot(X[i], y[i])\n",
    "                    db = y[i]\n",
    "                self.weight -= self.lr*dw\n",
    "                self.bias -=self.lr*db\n",
    "\n",
    "    def predict(self, X):\n",
    "        return [self.activation_func(pred) for pred in self._predict(X)]\n",
    "    \n",
    "    def _predict(self, X):\n",
    "        return np.dot(X, self.weight) - self.bias"
   ]
  }
 ],
 "metadata": {
  "kernelspec": {
   "display_name": "base",
   "language": "python",
   "name": "python3"
  },
  "language_info": {
   "codemirror_mode": {
    "name": "ipython",
    "version": 3
   },
   "file_extension": ".py",
   "mimetype": "text/x-python",
   "name": "python",
   "nbconvert_exporter": "python",
   "pygments_lexer": "ipython3",
   "version": "3.11.5"
  }
 },
 "nbformat": 4,
 "nbformat_minor": 2
}
